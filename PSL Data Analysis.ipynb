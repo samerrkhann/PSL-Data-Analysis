{
 "cells": [
  {
   "cell_type": "code",
   "execution_count": 1,
   "metadata": {},
   "outputs": [],
   "source": [
    "import pandas as pd\n",
    "import numpy as np\n",
    "import matplotlib.pyplot as plt\n",
    "import seaborn as sns\n",
    "%matplotlib inline"
   ]
  },
  {
   "cell_type": "code",
   "execution_count": 2,
   "metadata": {},
   "outputs": [],
   "source": [
    "#importing the data from github\n",
    "df=pd.read_csv('https://raw.githubusercontent.com/Asadullah007/PSL-Prediction-/master/PSL_2016-2020.csv')"
   ]
  },
  {
   "cell_type": "code",
   "execution_count": 4,
   "metadata": {},
   "outputs": [
    {
     "data": {
      "text/html": [
       "<div>\n",
       "<style scoped>\n",
       "    .dataframe tbody tr th:only-of-type {\n",
       "        vertical-align: middle;\n",
       "    }\n",
       "\n",
       "    .dataframe tbody tr th {\n",
       "        vertical-align: top;\n",
       "    }\n",
       "\n",
       "    .dataframe thead th {\n",
       "        text-align: right;\n",
       "    }\n",
       "</style>\n",
       "<table border=\"1\" class=\"dataframe\">\n",
       "  <thead>\n",
       "    <tr style=\"text-align: right;\">\n",
       "      <th></th>\n",
       "      <th>Team_1</th>\n",
       "      <th>Team_2</th>\n",
       "      <th>Team1_Code</th>\n",
       "      <th>Team2_Code</th>\n",
       "      <th>Season</th>\n",
       "      <th>venue</th>\n",
       "      <th>id</th>\n",
       "      <th>Win_By_Wkts</th>\n",
       "      <th>Win_By_Runs</th>\n",
       "      <th>toss_winner</th>\n",
       "      <th>toss_winner_code</th>\n",
       "      <th>toss_decision</th>\n",
       "      <th>result</th>\n",
       "      <th>winner</th>\n",
       "      <th>winner_code</th>\n",
       "    </tr>\n",
       "  </thead>\n",
       "  <tbody>\n",
       "    <tr>\n",
       "      <th>0</th>\n",
       "      <td>ISLAMABAD UNITED</td>\n",
       "      <td>QUETTA GLADIATORS</td>\n",
       "      <td>IU</td>\n",
       "      <td>QG</td>\n",
       "      <td>2016</td>\n",
       "      <td>Dubai</td>\n",
       "      <td>1</td>\n",
       "      <td>8</td>\n",
       "      <td>0</td>\n",
       "      <td>ISLAMABAD UNITED</td>\n",
       "      <td>IU</td>\n",
       "      <td>field</td>\n",
       "      <td>normal</td>\n",
       "      <td>QUETTA GLADIATORS</td>\n",
       "      <td>QG</td>\n",
       "    </tr>\n",
       "    <tr>\n",
       "      <th>1</th>\n",
       "      <td>KARACHI KINGS</td>\n",
       "      <td>LAHORE QALANDARS</td>\n",
       "      <td>KK</td>\n",
       "      <td>LQ</td>\n",
       "      <td>2016</td>\n",
       "      <td>Dubai</td>\n",
       "      <td>2</td>\n",
       "      <td>7</td>\n",
       "      <td>0</td>\n",
       "      <td>KARACHI KINGS</td>\n",
       "      <td>KK</td>\n",
       "      <td>field</td>\n",
       "      <td>normal</td>\n",
       "      <td>KARACHI KINGS</td>\n",
       "      <td>KK</td>\n",
       "    </tr>\n",
       "    <tr>\n",
       "      <th>2</th>\n",
       "      <td>PESHAWAR ZALMI</td>\n",
       "      <td>ISLAMBAD UNITED</td>\n",
       "      <td>PZ</td>\n",
       "      <td>IU</td>\n",
       "      <td>2016</td>\n",
       "      <td>Dubai</td>\n",
       "      <td>3</td>\n",
       "      <td>0</td>\n",
       "      <td>24</td>\n",
       "      <td>PESHAWAR ZALMI</td>\n",
       "      <td>PZ</td>\n",
       "      <td>field</td>\n",
       "      <td>normal</td>\n",
       "      <td>PESHAWAR ZALMI</td>\n",
       "      <td>PZ</td>\n",
       "    </tr>\n",
       "    <tr>\n",
       "      <th>3</th>\n",
       "      <td>QUETTA GLADIATORS</td>\n",
       "      <td>KARACHI KINGS</td>\n",
       "      <td>QG</td>\n",
       "      <td>KK</td>\n",
       "      <td>2016</td>\n",
       "      <td>Dubai</td>\n",
       "      <td>4</td>\n",
       "      <td>8</td>\n",
       "      <td>0</td>\n",
       "      <td>QUETTA GLADIATORS</td>\n",
       "      <td>QG</td>\n",
       "      <td>field</td>\n",
       "      <td>normal</td>\n",
       "      <td>QUETTA GLADIATORS</td>\n",
       "      <td>QG</td>\n",
       "    </tr>\n",
       "    <tr>\n",
       "      <th>4</th>\n",
       "      <td>LAHORE QALANDARS</td>\n",
       "      <td>PESHAWAR ZALMI</td>\n",
       "      <td>LQ</td>\n",
       "      <td>PZ</td>\n",
       "      <td>2016</td>\n",
       "      <td>Dubai</td>\n",
       "      <td>5</td>\n",
       "      <td>9</td>\n",
       "      <td>0</td>\n",
       "      <td>PESHAWAR ZALMI</td>\n",
       "      <td>PZ</td>\n",
       "      <td>bat</td>\n",
       "      <td>normal</td>\n",
       "      <td>PESHAWAR ZALMI</td>\n",
       "      <td>PZ</td>\n",
       "    </tr>\n",
       "  </tbody>\n",
       "</table>\n",
       "</div>"
      ],
      "text/plain": [
       "               Team_1             Team_2 Team1_Code Team2_Code  Season  venue  \\\n",
       "0   ISLAMABAD UNITED   QUETTA GLADIATORS         IU         QG    2016  Dubai   \n",
       "1       KARACHI KINGS   LAHORE QALANDARS         KK         LQ    2016  Dubai   \n",
       "2      PESHAWAR ZALMI   ISLAMBAD UNITED          PZ         IU    2016  Dubai   \n",
       "3  QUETTA GLADIATORS       KARACHI KINGS         QG         KK    2016  Dubai   \n",
       "4   LAHORE QALANDARS      PESHAWAR ZALMI         LQ         PZ    2016  Dubai   \n",
       "\n",
       "   id  Win_By_Wkts  Win_By_Runs        toss_winner toss_winner_code  \\\n",
       "0   1            8            0   ISLAMABAD UNITED               IU   \n",
       "1   2            7            0      KARACHI KINGS               KK   \n",
       "2   3            0           24     PESHAWAR ZALMI               PZ   \n",
       "3   4            8            0  QUETTA GLADIATORS               QG   \n",
       "4   5            9            0     PESHAWAR ZALMI               PZ   \n",
       "\n",
       "  toss_decision  result             winner winner_code  \n",
       "0         field  normal  QUETTA GLADIATORS          QG  \n",
       "1         field  normal      KARACHI KINGS          KK  \n",
       "2         field  normal     PESHAWAR ZALMI          PZ  \n",
       "3         field  normal  QUETTA GLADIATORS          QG  \n",
       "4           bat  normal     PESHAWAR ZALMI          PZ  "
      ]
     },
     "execution_count": 4,
     "metadata": {},
     "output_type": "execute_result"
    }
   ],
   "source": [
    "#let's look at the head of the data\n",
    "df.head()"
   ]
  },
  {
   "cell_type": "code",
   "execution_count": 5,
   "metadata": {},
   "outputs": [
    {
     "name": "stdout",
     "output_type": "stream",
     "text": [
      "<class 'pandas.core.frame.DataFrame'>\n",
      "RangeIndex: 127 entries, 0 to 126\n",
      "Data columns (total 15 columns):\n",
      "Team_1              127 non-null object\n",
      "Team_2              127 non-null object\n",
      "Team1_Code          127 non-null object\n",
      "Team2_Code          127 non-null object\n",
      "Season              127 non-null int64\n",
      "venue               127 non-null object\n",
      "id                  127 non-null int64\n",
      "Win_By_Wkts         127 non-null int64\n",
      "Win_By_Runs         127 non-null int64\n",
      "toss_winner         127 non-null object\n",
      "toss_winner_code    127 non-null object\n",
      "toss_decision       127 non-null object\n",
      "result              127 non-null object\n",
      "winner              127 non-null object\n",
      "winner_code         127 non-null object\n",
      "dtypes: int64(4), object(11)\n",
      "memory usage: 15.0+ KB\n"
     ]
    }
   ],
   "source": [
    "#let's explore the columns of the dataset\n",
    "df.info()"
   ]
  },
  {
   "cell_type": "markdown",
   "metadata": {},
   "source": [
    "# Data Visualization"
   ]
  },
  {
   "cell_type": "code",
   "execution_count": 6,
   "metadata": {},
   "outputs": [
    {
     "data": {
      "text/plain": [
       "<matplotlib.axes._subplots.AxesSubplot at 0x23bd81b6348>"
      ]
     },
     "execution_count": 6,
     "metadata": {},
     "output_type": "execute_result"
    },
    {
     "data": {
      "image/png": "[encoded data removed]",
      "text/plain": [
       "<Figure size 432x288 with 1 Axes>"
      ]
     },
     "metadata": {
      "needs_background": "light"
     },
     "output_type": "display_data"
    }
   ],
   "source": [
    "#let's explore which team has won the most of the matches throughout all the seasons\n",
    "sns.countplot(x='winner_code',data=df)"
   ]
  },
  {
   "cell_type": "code",
   "execution_count": 35,
   "metadata": {},
   "outputs": [
    {
     "data": {
      "text/plain": [
       "<matplotlib.axes._subplots.AxesSubplot at 0x23bdbf33508>"
      ]
     },
     "execution_count": 35,
     "metadata": {},
     "output_type": "execute_result"
    },
    {
     "data": {
      "image/png": "[encoded data removed]",
      "text/plain": [
       "<Figure size 432x288 with 1 Axes>"
      ]
     },
     "metadata": {
      "needs_background": "light"
     },
     "output_type": "display_data"
    }
   ],
   "source": [
    "#let's explore how the win by wickets is distributed\n",
    "df['Win_By_Wkts'].hist()"
   ]
  },
  {
   "cell_type": "code",
   "execution_count": 32,
   "metadata": {},
   "outputs": [
    {
     "data": {
      "text/plain": [
       "array([ 8,  7,  0,  9,  3,  5,  2, 50,  6,  1, 10,  4], dtype=int64)"
      ]
     },
     "execution_count": 32,
     "metadata": {},
     "output_type": "execute_result"
    }
   ],
   "source": [
    "#seems like we have an ill defined value here\n",
    "df['Win_By_Wkts'].unique()"
   ]
  },
  {
   "cell_type": "code",
   "execution_count": 34,
   "metadata": {},
   "outputs": [],
   "source": [
    "#as a good guess we know this would we win by 5 wickets and not by 50 let's replace it\n",
    "df['Win_By_Wkts'].replace(50,5,inplace=True)"
   ]
  },
  {
   "cell_type": "code",
   "execution_count": 38,
   "metadata": {},
   "outputs": [
    {
     "data": {
      "text/plain": [
       "<matplotlib.axes._subplots.AxesSubplot at 0x23bdcb9c4c8>"
      ]
     },
     "execution_count": 38,
     "metadata": {},
     "output_type": "execute_result"
    },
    {
     "data": {
      "image/png": "[encoded data removed]",
      "text/plain": [
       "<Figure size 432x288 with 1 Axes>"
      ]
     },
     "metadata": {
      "needs_background": "light"
     },
     "output_type": "display_data"
    }
   ],
   "source": [
    "#now let's check again\n",
    "df['Win_By_Wkts'].hist(bins=10)"
   ]
  },
  {
   "cell_type": "code",
   "execution_count": 44,
   "metadata": {},
   "outputs": [
    {
     "data": {
      "text/plain": [
       "<matplotlib.axes._subplots.AxesSubplot at 0x23bddafd2c8>"
      ]
     },
     "execution_count": 44,
     "metadata": {},
     "output_type": "execute_result"
    },
    {
     "data": {
      "image/png": "[encoded data removed]",
      "text/plain": [
       "<Figure size 432x288 with 1 Axes>"
      ]
     },
     "metadata": {
      "needs_background": "light"
     },
     "output_type": "display_data"
    }
   ],
   "source": [
    "#now similarly let's explore the Win_By_Runs\n",
    "df['Win_By_Runs'].hist(bins=10)"
   ]
  },
  {
   "cell_type": "markdown",
   "metadata": {},
   "source": [
    "# Data Exploration"
   ]
  },
  {
   "cell_type": "code",
   "execution_count": 20,
   "metadata": {},
   "outputs": [
    {
     "name": "stdout",
     "output_type": "stream",
     "text": [
      "The percentage of the team winning the toss also winning the match is 52.76\n"
     ]
    }
   ],
   "source": [
    "#now let's see how many times has it happened that the winning toss team has also won the match\n",
    "def tosses_win_matches(cols):\n",
    "    toss_winner=cols[0]\n",
    "    match_winner=cols[1]\n",
    "    if toss_winner==match_winner:\n",
    "        return True\n",
    "    else:\n",
    "        return False\n",
    "tosses_matches=df[['toss_winner_code','winner_code']].apply(tosses_win_matches,axis=1)\n",
    "percentage_win=tosses_matches.sum()/len(df) *100\n",
    "print('The percentage of the team winning the toss also winning the match is',np.round(percentage_win,2))"
   ]
  },
  {
   "cell_type": "code",
   "execution_count": 26,
   "metadata": {},
   "outputs": [
    {
     "name": "stdout",
     "output_type": "stream",
     "text": [
      "The percentage of the team winning the match and batting next is 51.97\n"
     ]
    }
   ],
   "source": [
    "#now as it is the common notion that due to the hot weather, the next to bat team has advantage in the torunament let's see\n",
    "def bat_second_win(cols):\n",
    "    toss_winner=cols[0]\n",
    "    toss_decision=cols[1]\n",
    "    match_winner=cols[2]\n",
    "    if toss_decision == 'bat':\n",
    "        if toss_winner==match_winner:\n",
    "            return False\n",
    "        else:\n",
    "            return True\n",
    "    if toss_decision == 'field':\n",
    "        if toss_winner==match_winner:\n",
    "            return True\n",
    "        else:\n",
    "            return False\n",
    "        \n",
    "second_to_bat=df[['toss_winner_code','toss_decision','winner_code']].apply(bat_second_win,axis=1)\n",
    "percentage_win=second_to_bat.sum()/len(df) *100\n",
    "print('The percentage of the team winning the match and batting next is',np.round(percentage_win,2))"
   ]
  },
  {
   "cell_type": "code",
   "execution_count": 73,
   "metadata": {},
   "outputs": [
    {
     "data": {
      "text/plain": [
       "['IU', 'PZ', 'IU', 'QG']"
      ]
     },
     "execution_count": 73,
     "metadata": {},
     "output_type": "execute_result"
    }
   ],
   "source": [
    "#now based on our data let's find out the winner of all seasons\n",
    "first=0\n",
    "second=1\n",
    "lst=[]\n",
    "for x in range(len(df)):\n",
    "    first+=1\n",
    "    second+=1\n",
    "    if second == len(df):\n",
    "        break\n",
    "    if df['Season'][first] == df['Season'][second]:\n",
    "        continue\n",
    "    else: \n",
    "        lst.append(df['winner_code'][first])\n",
    "lst"
   ]
  },
  {
   "cell_type": "code",
   "execution_count": null,
   "metadata": {},
   "outputs": [],
   "source": []
  },
  {
   "cell_type": "code",
   "execution_count": null,
   "metadata": {},
   "outputs": [],
   "source": []
  },
  {
   "cell_type": "code",
   "execution_count": null,
   "metadata": {},
   "outputs": [],
   "source": []
  }
 ],
 "metadata": {
  "kernelspec": {
   "display_name": "Python 3",
   "language": "python",
   "name": "python3"
  },
  "language_info": {
   "codemirror_mode": {
    "name": "ipython",
    "version": 3
   },
   "file_extension": ".py",
   "mimetype": "text/x-python",
   "name": "python",
   "nbconvert_exporter": "python",
   "pygments_lexer": "ipython3",
   "version": "3.7.7"
  }
 },
 "nbformat": 4,
 "nbformat_minor": 4
}
